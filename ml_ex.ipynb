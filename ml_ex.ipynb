{
 "metadata": {
  "language_info": {
   "codemirror_mode": {
    "name": "ipython",
    "version": 3
   },
   "file_extension": ".py",
   "mimetype": "text/x-python",
   "name": "python",
   "nbconvert_exporter": "python",
   "pygments_lexer": "ipython3",
   "version": "3.7.3"
  },
  "orig_nbformat": 2,
  "kernelspec": {
   "name": "python373jvsc74a57bd02dca8595fa366e0e6134a11352dc9aa5b2bfb7f0851a22efa168196b0af7d8bc",
   "display_name": "Python 3.7.3 64-bit ('base': conda)"
  }
 },
 "nbformat": 4,
 "nbformat_minor": 2,
 "cells": [
  {
   "cell_type": "code",
   "execution_count": 2,
   "metadata": {},
   "outputs": [],
   "source": [
    "import mlflow\n",
    "import pandas as pd"
   ]
  },
  {
   "cell_type": "code",
   "execution_count": 3,
   "metadata": {},
   "outputs": [
    {
     "output_type": "stream",
     "name": "stdout",
     "text": [
      "<Experiment: artifact_location='file:///home/ERANHER/eran/mlflow/ex/mlruns/1', experiment_id='1', lifecycle_stage='active', name='NLP Experiments', tags={}>\n"
     ]
    }
   ],
   "source": [
    "# Create an experiment and log two runs under it\n",
    "name = \"NLP Experiments\"\n",
    "experiment_id = mlflow.create_experiment(name)\n",
    "experiment_info=mlflow.get_experiment_by_name(name)\n",
    "print(experiment_info)\n"
   ]
  },
  {
   "cell_type": "code",
   "execution_count": 4,
   "metadata": {},
   "outputs": [
    {
     "output_type": "stream",
     "name": "stdout",
     "text": [
      "   metrics.m tags.s.release                            run_id\n0       2.51       1.2.0-GA  ae01453bda6e432b825fa59df9cf9c0d\n1       1.56       1.1.0-RC  41857760624a44d782ae11814bb45356\n--\n   metrics.m tags.s.release                            run_id\n0       1.56       1.1.0-RC  41857760624a44d782ae11814bb45356\n"
     ]
    }
   ],
   "source": [
    "\n",
    "with mlflow.start_run(experiment_id=experiment_id):\n",
    "    mlflow.log_metric(\"m\", 1.55)\n",
    "    mlflow.log_metric(\"m\", 1.56)\n",
    "    mlflow.set_tag(\"s.release\", \"1.1.0-RC\")\n",
    "with mlflow.start_run(experiment_id=experiment_id):\n",
    "    mlflow.log_metric(\"m\", 2.50)\n",
    "    mlflow.log_metric(\"m\", 2.51)\n",
    "    mlflow.set_tag(\"s.release\", \"1.2.0-GA\")\n",
    "\n",
    "# Search all runs in experiment_id\n",
    "df = mlflow.search_runs([experiment_id], order_by=[\"metrics.m DESC\"])\n",
    "print(df[[\"metrics.m\", \"tags.s.release\", \"run_id\"]])\n",
    "print(\"--\")\n",
    "\n",
    "# Search the experiment_id using a filter_string with tag\n",
    "# that has a case insensitive pattern\n",
    "filter_string = \"tags.s.release ILIKE '%rc%'\"\n",
    "df = mlflow.search_runs([experiment_id], filter_string=filter_string)\n",
    "df.head()\n",
    "print(df[[\"metrics.m\", \"tags.s.release\", \"run_id\"]])"
   ]
  }
 ]
}